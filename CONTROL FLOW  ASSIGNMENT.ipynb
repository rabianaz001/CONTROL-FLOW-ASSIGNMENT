{
 "cells": [
  {
   "cell_type": "markdown",
   "metadata": {},
   "source": [
    "1. Write a Python program to check if a given number is positive or negative."
   ]
  },
  {
   "cell_type": "code",
   "execution_count": 6,
   "metadata": {},
   "outputs": [
    {
     "name": "stdout",
     "output_type": "stream",
     "text": [
      "Enter a number: -5\n",
      "Number is Negative number. \n"
     ]
    }
   ],
   "source": [
    "n = float(input(\"Enter a number: \"))\n",
    "if n >= 0: \n",
    "    if n == 0: \n",
    "        print(\"It is Zero! \")\n",
    "    else:\n",
    "        print(\"Number is Positive number. \") \n",
    "else:\n",
    "    print(\"Number is Negative number. \")"
   ]
  },
  {
   "cell_type": "markdown",
   "metadata": {},
   "source": [
    "2. Create a program that determines if a person is eligible to vote based on their age."
   ]
  },
  {
   "cell_type": "code",
   "execution_count": 8,
   "metadata": {},
   "outputs": [
    {
     "data": {
      "text/plain": [
       "'person is not eligble for voting'"
      ]
     },
     "execution_count": 8,
     "metadata": {},
     "output_type": "execute_result"
    }
   ],
   "source": [
    "def eligible_criteria(age):\n",
    "    if age>= 18:\n",
    "        return \"person is eligble for voting\"\n",
    "    else:\n",
    "        return \"person is not eligble for voting\"\n",
    "eligible_criteria(3)"
   ]
  },
  {
   "cell_type": "code",
   "execution_count": 72,
   "metadata": {},
   "outputs": [
    {
     "name": "stdout",
     "output_type": "stream",
     "text": [
      "enter your age :19\n",
      "you are eligible  to vote\n"
     ]
    }
   ],
   "source": [
    "age = int(input(\"enter your age :\"))\n",
    "if age >= 18:\n",
    "    print(\"you are eligible  to vote\")\n",
    "else:\n",
    "    print(\"you are not eligible to vote\")"
   ]
  },
  {
   "cell_type": "markdown",
   "metadata": {},
   "source": [
    "3. Develop a program to find the maximum of two numbers using if-else statements."
   ]
  },
  {
   "cell_type": "code",
   "execution_count": 6,
   "metadata": {},
   "outputs": [
    {
     "name": "stdout",
     "output_type": "stream",
     "text": [
      "enter your first num 56\n",
      "enter your second num 78\n",
      "num2 is maximum \n",
      "num2 is maximum \n"
     ]
    }
   ],
   "source": [
    "num1 = int(input(\"enter your first num \"))\n",
    "num2 = int(input(\"enter your second num \"))\n",
    "if num1 == num2:\n",
    "    print(\"none is maximum\")\n",
    "if num1>num2:\n",
    "    print(\"num1 is maximum\")\n",
    "else:\n",
    "    print(\"num2 is maximum \")"
   ]
  },
  {
   "cell_type": "markdown",
   "metadata": {},
   "source": [
    "4. Write a Python script to classify a given year as a leap year or not."
   ]
  },
  {
   "cell_type": "code",
   "execution_count": 73,
   "metadata": {},
   "outputs": [
    {
     "name": "stdout",
     "output_type": "stream",
     "text": [
      "enter the year :2000\n",
      "Given Year is a leap Year\n"
     ]
    }
   ],
   "source": [
    "year = int(input(\"enter the year :\"))\n",
    "if year % 400 == 0 or year % 100==0:\n",
    "    print(\"Given Year is a leap Year\");\n",
    "else:\n",
    "    print(\"Given Year is not a leap Year\")"
   ]
  },
  {
   "cell_type": "markdown",
   "metadata": {},
   "source": [
    "5. Create a program that checks whether a character is a vowel or a consonant."
   ]
  },
  {
   "cell_type": "code",
   "execution_count": 6,
   "metadata": {},
   "outputs": [
    {
     "name": "stdout",
     "output_type": "stream",
     "text": [
      "Enter a character: i\n",
      "The character 'i' is a vowel!\n",
      "The character 'i' is a vowel!\n"
     ]
    }
   ],
   "source": [
    "character = input(\"Enter a character: \")  \n",
    "vowels = ['a', 'e', 'i', 'o', 'u', 'A', 'E', 'I', 'O', 'U']  \n",
    "if character in vowels:  \n",
    "    print(f\"The character '{character}' is a vowel!\")  \n",
    "else:  \n",
    "    print(f\"The character '{character}' is a consonant!\")  "
   ]
  },
  {
   "cell_type": "markdown",
   "metadata": {},
   "source": [
    "6. Implement a program to determine whether a given number is even or odd."
   ]
  },
  {
   "cell_type": "code",
   "execution_count": 10,
   "metadata": {},
   "outputs": [
    {
     "name": "stdout",
     "output_type": "stream",
     "text": [
      "enter any num :56\n",
      "given num is even\n",
      "given num is even\n"
     ]
    }
   ],
   "source": [
    "number = int(input(\"enter any num :\"))\n",
    "if number %2==0:\n",
    "    print(\"given num is even\")\n",
    "else:\n",
    "    print(\"given num is odd\")"
   ]
  },
  {
   "cell_type": "markdown",
   "metadata": {},
   "source": [
    "7. Write a Python function to calculate the absolute value of a number without using the `abs()` function."
   ]
  },
  {
   "cell_type": "code",
   "execution_count": 15,
   "metadata": {},
   "outputs": [
    {
     "name": "stdout",
     "output_type": "stream",
     "text": [
      "10\n",
      "10\n"
     ]
    }
   ],
   "source": [
    "def absolute_value(num):\n",
    "    if num >= 0:\n",
    "        return num\n",
    "    else:\n",
    "        return -num\n",
    "print(absolute_value(-10))"
   ]
  },
  {
   "cell_type": "markdown",
   "metadata": {},
   "source": [
    "8. Develop a program that determines the largest of three given numbers using if-else statements."
   ]
  },
  {
   "cell_type": "code",
   "execution_count": 16,
   "metadata": {},
   "outputs": [
    {
     "name": "stdout",
     "output_type": "stream",
     "text": [
      "The largest number is 78\n",
      "The largest number is 78\n"
     ]
    }
   ],
   "source": [
    "num1 = 56\n",
    "num2 = 23\n",
    "num3 = 78\n",
    "if (num1 >= num2) and (num1 >= num3):\n",
    "       largest = num1\n",
    "elif (num2 >= num1) and (num2 >= num3):\n",
    "       largest = num2\n",
    "else:\n",
    "       largest = num3\n",
    "\n",
    "print(\"The largest number is\", largest)\n"
   ]
  },
  {
   "cell_type": "markdown",
   "metadata": {},
   "source": [
    "9. Create a program that checks if a given string is a palindrome."
   ]
  },
  {
   "cell_type": "code",
   "execution_count": 30,
   "metadata": {},
   "outputs": [
    {
     "name": "stdout",
     "output_type": "stream",
     "text": [
      "enter your string rabia\n",
      "No,its not palindrome\n",
      "No,its not palindrome\n"
     ]
    }
   ],
   "source": [
    "x = str(input(\"enter your string \"))\n",
    "\n",
    "w = \"\"\n",
    "for i in x:\n",
    "    w = i + w\n",
    "\n",
    "if (x == w):\n",
    "    print(\"Yes it is palindrome\")\n",
    "else:\n",
    "    print(\"No,its not palindrome\")\n"
   ]
  },
  {
   "cell_type": "markdown",
   "metadata": {},
   "source": [
    "10. Write a Python program to calculate the grade based on a student's score."
   ]
  },
  {
   "cell_type": "code",
   "execution_count": 33,
   "metadata": {},
   "outputs": [
    {
     "name": "stdout",
     "output_type": "stream",
     "text": [
      "Enter marks of the first subject: 56\n",
      "Enter marks of the second subject: 78\n",
      "Enter marks of the third subject: 34\n",
      "Enter marks of the fourth subject: 98\n",
      "Enter marks of the fifth subject: 54\n",
      "Grade: C\n",
      "Grade: C\n"
     ]
    }
   ],
   "source": [
    "sub1=int(input(\"Enter marks of the first subject: \"))\n",
    "sub2=int(input(\"Enter marks of the second subject: \"))\n",
    "sub3=int(input(\"Enter marks of the third subject: \"))\n",
    "sub4=int(input(\"Enter marks of the fourth subject: \"))\n",
    "sub5=int(input(\"Enter marks of the fifth subject: \"))\n",
    "avg= (sub1+sub2+sub3+sub4+sub4)/5\n",
    "if(avg>=90):\n",
    "    print(\"Grade: A\")\n",
    "elif(avg>=80 and avg<90):\n",
    "    print(\"Grade: B\")\n",
    "elif(avg>=70 and avg<80):\n",
    "    print(\"Grade: C\")\n",
    "elif(avg>=60 and avg<70):\n",
    "    print(\"Grade: D\")\n",
    "else:\n",
    "    print(\"Grade: F\")"
   ]
  },
  {
   "cell_type": "markdown",
   "metadata": {},
   "source": [
    "11. Write a program to find the largest among three numbers using nested if-else statements."
   ]
  },
  {
   "cell_type": "code",
   "execution_count": 1,
   "metadata": {},
   "outputs": [
    {
     "name": "stdout",
     "output_type": "stream",
     "text": [
      "enter 1st num34\n",
      "enter 2nd num98\n",
      "enter 3rd num56\n",
      "greater num among three numbers is : 98\n"
     ]
    }
   ],
   "source": [
    "a = int(input(\"enter 1st num\"))\n",
    "b = int(input(\"enter 2nd num\"))\n",
    "c = int(input(\"enter 3rd num\"))\n",
    "\n",
    "if a>b:\n",
    "    if a>c:\n",
    "        greater = a\n",
    "    else:\n",
    "        greater = c\n",
    "else:\n",
    "    if b>c:\n",
    "        greater = b\n",
    "    else:\n",
    "        greater= c\n",
    "print(\"greater num among three numbers is :\",greater)\n"
   ]
  },
  {
   "cell_type": "markdown",
   "metadata": {},
   "source": [
    "12. Implement a program to determine if a triangle is equilateral, isosceles, or scalene."
   ]
  },
  {
   "cell_type": "code",
   "execution_count": 3,
   "metadata": {},
   "outputs": [
    {
     "name": "stdout",
     "output_type": "stream",
     "text": [
      "enter first side of triangle :12\n",
      "enter second side of triangle :34\n",
      "enter third side of triangle :23\n",
      "Scalene Triangle\n"
     ]
    }
   ],
   "source": [
    "def checkTriangle(x, y, z):\n",
    "    if x == y or y== z:\n",
    "        print(\"Equilateral Triangle\")\n",
    "\n",
    "    elif x == y == z == x:\n",
    "        print(\"Isosceles Triangle\")\n",
    "    else:\n",
    "        print(\"Scalene Triangle\")\n",
    "x = int(input(\"enter first side of triangle :\"))\n",
    "y = int(input(\"enter second side of triangle :\"))\n",
    "z = int(input(\"enter third side of triangle :\"))\n",
    "checkTriangle(x, y, z)\n"
   ]
  },
  {
   "cell_type": "markdown",
   "metadata": {},
   "source": [
    "13. Develop a program that checks if a year is a leap year and also if it is a century year."
   ]
  },
  {
   "cell_type": "code",
   "execution_count": 23,
   "metadata": {},
   "outputs": [
    {
     "name": "stdout",
     "output_type": "stream",
     "text": [
      "enter the year to check :2000\n",
      "this is a leap year\n",
      "this is a century year \n"
     ]
    }
   ],
   "source": [
    "year = int(input(\"enter the year to check :\"))\n",
    "if year %400==0:\n",
    "    print(\"this is a leap year\")\n",
    "if year %100==0:\n",
    "    print(\"this is a century year \")\n",
    "else:\n",
    "    print(\"this is not a leap year\")\n",
    "    "
   ]
  },
  {
   "cell_type": "markdown",
   "metadata": {},
   "source": [
    "14. Write a Python script to determine if a number is positive, negative, or zero."
   ]
  },
  {
   "cell_type": "code",
   "execution_count": 25,
   "metadata": {},
   "outputs": [
    {
     "name": "stdout",
     "output_type": "stream",
     "text": [
      "enter num to check :-6\n",
      "negative num\n"
     ]
    }
   ],
   "source": [
    "def check_num(n):\n",
    "    if n > 0 :\n",
    "        print(\"positive num\")\n",
    "    elif n < 0 :\n",
    "        print(\"negative num\")\n",
    "    else:\n",
    "        print(\"equal to zero\")\n",
    "n = int(input(\"enter num to check :\"))  \n",
    "check_num(n)"
   ]
  },
  {
   "cell_type": "markdown",
   "metadata": {},
   "source": [
    "15. Create a program to check if a person is a teenager (between 13 and 19 years old)."
   ]
  },
  {
   "cell_type": "code",
   "execution_count": 75,
   "metadata": {},
   "outputs": [
    {
     "name": "stdout",
     "output_type": "stream",
     "text": [
      "enter your age :10\n"
     ]
    },
    {
     "data": {
      "text/plain": [
       "'not teenager'"
      ]
     },
     "execution_count": 75,
     "metadata": {},
     "output_type": "execute_result"
    }
   ],
   "source": [
    "def check_teenager(age):\n",
    "    if age >=13 and age <=19:\n",
    "        return \"teenager\"\n",
    "    else:\n",
    "        return \"not teenager\"\n",
    "age = int(input(\"enter your age :\"))\n",
    "check_teenager(age)"
   ]
  },
  {
   "cell_type": "markdown",
   "metadata": {},
   "source": [
    "16. Develop a  program that determines the type of angle based on its measure (acute, obtuse, or right)."
   ]
  },
  {
   "cell_type": "code",
   "execution_count": 79,
   "metadata": {},
   "outputs": [
    {
     "name": "stdout",
     "output_type": "stream",
     "text": [
      "enter the number of 1 : 30\n",
      "enter the number of 2 : 30\n",
      "enter the number of 3 : 30\n",
      "right angle triangle\n"
     ]
    }
   ],
   "source": [
    "def check_angle(z):\n",
    "    if z <90:\n",
    "        print(\"acute angle triangle\")\n",
    "    elif z >90 and z <=180 :\n",
    "        print(\"obtuse angle triangle\")\n",
    "    elif z == 90:\n",
    "        print (\"right angle triangle\")\n",
    "    else:\n",
    "        print(\"invalid angle\")\n",
    "a = int(input(\"enter the number of 1 : \"))\n",
    "b = int(input(\"enter the number of 2 : \"))\n",
    "c = int(input(\"enter the number of 3 : \"))\n",
    "check_angle(z)"
   ]
  },
  {
   "cell_type": "markdown",
   "metadata": {},
   "source": [
    "17. Write a Python program to calculate the roots of a quadratic equation."
   ]
  },
  {
   "cell_type": "code",
   "execution_count": 82,
   "metadata": {},
   "outputs": [
    {
     "name": "stdout",
     "output_type": "stream",
     "text": [
      "Enter a: 2\n",
      "Enter b: 4\n",
      "Enter c: 6\n",
      "The solution are (-1-1.4142135623730951j) and (-1+1.4142135623730951j)\n"
     ]
    }
   ],
   "source": [
    "import cmath  \n",
    "a = float(input('Enter a: '))  \n",
    "b = float(input('Enter b: '))  \n",
    "c = float(input('Enter c: '))  \n",
    "  \n",
    "d = (b**2) - (4*a*c)  \n",
    "  \n",
    "sol1 = (-b-cmath.sqrt(d))/(2*a)  \n",
    "sol2 = (-b+cmath.sqrt(d))/(2*a)  \n",
    "print('The solution are {0} and {1}'.format(sol1,sol2))   "
   ]
  },
  {
   "cell_type": "markdown",
   "metadata": {},
   "source": [
    "18. Implement a program to determine the day of the week based on a user-provided number (1 for Monday, 2 for Tuesday, etc.)"
   ]
  },
  {
   "cell_type": "code",
   "execution_count": 87,
   "metadata": {},
   "outputs": [
    {
     "name": "stdout",
     "output_type": "stream",
     "text": [
      "enter any num from 1 to 7 :5\n",
      "Friday\n"
     ]
    }
   ],
   "source": [
    "num = int(input(\"enter any num from 1 to 7 :\"))\n",
    "if num == 1:\n",
    "    print('Monday')\n",
    "elif num == 2:\n",
    "    print('Tuesday')\n",
    "elif num == 3:\n",
    "    print('Wednesday')\n",
    "elif num == 4:\n",
    "    print('Thursday')\n",
    "elif num == 5:\n",
    "    print('Friday')\n",
    "elif num == 6:\n",
    "    print('Saturday')\n",
    "elif num == 7:\n",
    "    print('Sunday')\n",
    "else:\n",
    "    print(\"invalid num\")"
   ]
  },
  {
   "cell_type": "markdown",
   "metadata": {},
   "source": [
    "19. Create a program that determines if a year is a leap year and also if it is evenly divisible by 400."
   ]
  },
  {
   "cell_type": "code",
   "execution_count": 15,
   "metadata": {},
   "outputs": [
    {
     "name": "stdout",
     "output_type": "stream",
     "text": [
      "leap year\n"
     ]
    }
   ],
   "source": [
    "def is_leap(y):\n",
    "    if((y % 400 == 0) or\n",
    "    (y % 100 != 0) and\n",
    "    (y % 4 == 0)): \n",
    "        return \"leap year\"\n",
    "    else:\n",
    "        return \"not a leap year\"\n",
    "if __name__=='__main__':\n",
    "\n",
    "    year = 2020\n",
    "    print(is_leap(year))"
   ]
  },
  {
   "cell_type": "markdown",
   "metadata": {},
   "source": [
    "20. Develop a program that checks if a given number is prime or not using nested if-else statements."
   ]
  },
  {
   "cell_type": "code",
   "execution_count": 18,
   "metadata": {},
   "outputs": [
    {
     "name": "stdout",
     "output_type": "stream",
     "text": [
      "enter any number :5\n",
      "5 is a prime number\n"
     ]
    }
   ],
   "source": [
    "num = int(input(\"enter any number :\"))\n",
    "if num > 1:\n",
    "    for i in range(2, int(num/2)+1):\n",
    "        if (num % i) == 0:\n",
    "            print(num, \"is not a prime number\")\n",
    "            break\n",
    "    else:\n",
    "        print(num, \"is a prime number\")\n",
    "else:\n",
    "    print(num, \"is not a prime number\")"
   ]
  },
  {
   "cell_type": "markdown",
   "metadata": {},
   "source": [
    "21. Write a Python program to assign grades based on different ranges of scores using elif statements."
   ]
  },
  {
   "cell_type": "code",
   "execution_count": 29,
   "metadata": {},
   "outputs": [
    {
     "name": "stdout",
     "output_type": "stream",
     "text": [
      "Enter Marks Obtained in 5 Subjects: \n",
      "56\n",
      "87\n",
      "98\n",
      "45\n",
      "87\n",
      "Your Grade is B1\n"
     ]
    }
   ],
   "source": [
    "print(\"Enter Marks Obtained in 5 Subjects: \")\n",
    "sub_1 = int(input())\n",
    "sub_2 = int(input())\n",
    "sub_3 = int(input())\n",
    "sub_4 = int(input()) \n",
    "sub_5 = int(input())\n",
    "\n",
    "total = sub_1+sub_2+sub_3+sub_4+sub_5\n",
    "avg = total/5\n",
    "\n",
    "if avg>=91 and avg<=100:\n",
    "    print(\"Your Grade is A1\")\n",
    "elif avg>=81 and avg<91:\n",
    "    print(\"Your Grade is A2\")\n",
    "elif avg>=71 and avg<81:\n",
    "    print(\"Your Grade is B1\")\n",
    "elif avg>=61 and avg<71:\n",
    "    print(\"Your Grade is B2\")\n",
    "elif avg>=51 and avg<61:\n",
    "    print(\"Your Grade is C1\")\n",
    "elif avg>=41 and avg<51:\n",
    "    print(\"Your Grade is C2\")\n",
    "elif avg>=33 and avg<41:\n",
    "    print(\"Your Grade is D\")\n",
    "elif avg>=21 and avg<33:\n",
    "    print(\"you are fail\")\n",
    "    "
   ]
  },
  {
   "cell_type": "markdown",
   "metadata": {},
   "source": [
    "22. Implement a program to determine the type of a triangle based on its angles."
   ]
  },
  {
   "cell_type": "code",
   "execution_count": 35,
   "metadata": {},
   "outputs": [
    {
     "name": "stdout",
     "output_type": "stream",
     "text": [
      "enter first side of triangle :67\n",
      "enter second side of triangle :78\n",
      "enter third side of triangle :65\n"
     ]
    },
    {
     "data": {
      "text/plain": [
       "'Scelane triangle'"
      ]
     },
     "execution_count": 35,
     "metadata": {},
     "output_type": "execute_result"
    }
   ],
   "source": [
    "def check_triangle(a,b,c):\n",
    "    if a==b==c:\n",
    "        return \"Equilateral triangle\"\n",
    "    elif a == b == c==a:\n",
    "        return \"Isosceles tringle\"\n",
    "    else:\n",
    "        return \"Scelane triangle\"\n",
    "a = int(input(\"enter first side of triangle :\"))\n",
    "b = int(input(\"enter second side of triangle :\"))\n",
    "c = int(input(\"enter third side of triangle :\"))\n",
    "check_triangle(a,b,c)\n"
   ]
  },
  {
   "cell_type": "markdown",
   "metadata": {},
   "source": [
    "23. Develop a program to categorize a given person's BMI into underweight, normal, overweight, or obese using elif statements."
   ]
  },
  {
   "cell_type": "code",
   "execution_count": 37,
   "metadata": {},
   "outputs": [
    {
     "name": "stdout",
     "output_type": "stream",
     "text": [
      "enter your bmi range :33\n",
      "You are obese.\n"
     ]
    }
   ],
   "source": [
    "bmi= float(input(\"enter your bmi range :\"))\n",
    "if bmi <= 18.5:\n",
    "    print(\"You are underweight.\")\n",
    "elif 18.5 < bmi <= 24.9:\n",
    "    print(\"Your weight is normal.\")\n",
    "elif 25 < bmi <= 29.29:\n",
    "    print(\"You are overweight.\") \n",
    "else:\n",
    "    print(\"You are obese.\")"
   ]
  },
  {
   "cell_type": "markdown",
   "metadata": {},
   "source": [
    "24. Create a program that determines whether a given number is positive, negative, or zero using elif\n",
    "statements."
   ]
  },
  {
   "cell_type": "code",
   "execution_count": 39,
   "metadata": {},
   "outputs": [
    {
     "name": "stdout",
     "output_type": "stream",
     "text": [
      "enter the num to check :0\n",
      "num is zero\n"
     ]
    }
   ],
   "source": [
    "def check_num(num):\n",
    "    if num<0:\n",
    "        print(\"num is negative\")\n",
    "    elif num>0:\n",
    "        print(\"num is positive\")\n",
    "    else:\n",
    "        print(\"num is zero\")\n",
    "num = int(input(\"enter the num to check :\"))\n",
    "check_num(num)"
   ]
  },
  {
   "cell_type": "markdown",
   "metadata": {},
   "source": [
    "25. Write a Python script to determine the type of a character (uppercase, lowercase, or special) using elif statements."
   ]
  },
  {
   "cell_type": "code",
   "execution_count": 44,
   "metadata": {},
   "outputs": [
    {
     "name": "stdout",
     "output_type": "stream",
     "text": [
      "A is an upperCase character\n",
      "a is a lowerCase character\n",
      "0 is not an alphabetic character\n"
     ]
    }
   ],
   "source": [
    "def check(ch):\n",
    "    if ch.isupper():\n",
    "        print(ch, \"is an upperCase character\")\n",
    "    elif ch.islower():\n",
    "        print(ch, \"is a lowerCase character\")\n",
    "    else:\n",
    "        print(ch, \"is not an alphabetic character\")\n",
    "if __name__ == '__main__':\n",
    "    ch = 'A'\n",
    "    check(ch)\n",
    "\n",
    "    ch = 'a'\n",
    "    check(ch)\n",
    "    \n",
    "    ch = '0'\n",
    "    check(ch)"
   ]
  },
  {
   "cell_type": "markdown",
   "metadata": {},
   "source": [
    "26. Implement a program to calculate the discounted price based on different purchase amounts using elif statements."
   ]
  },
  {
   "cell_type": "code",
   "execution_count": 46,
   "metadata": {},
   "outputs": [
    {
     "name": "stdout",
     "output_type": "stream",
     "text": [
      "Enter Sale Amount: 600\n",
      "Discount :  30.0\n",
      "Net Pay  :  570.0\n"
     ]
    }
   ],
   "source": [
    "amt = int(input(\"Enter Sale Amount: \"))\n",
    "\n",
    "if(amt>0):\n",
    "    if amt<=5000:\n",
    "        disc = amt*0.05\n",
    "    elif amt<=15000:\n",
    "        disc=amt*0.12\n",
    "    elif amt<=25000:\n",
    "        disc=0.2 * amt\n",
    "    else:\n",
    "         disc=0.3 * amt\n",
    "\n",
    "    print(\"Discount : \",disc)\n",
    "    print(\"Net Pay  : \",amt-disc)\n",
    "else:\n",
    "    print(\"Invalid Amount\")"
   ]
  },
  {
   "cell_type": "markdown",
   "metadata": {},
   "source": [
    "27. Develop a program to calculate the electricity bill based on different consumption slabs using elif statements."
   ]
  },
  {
   "cell_type": "code",
   "execution_count": 49,
   "metadata": {},
   "outputs": [
    {
     "name": "stdout",
     "output_type": "stream",
     "text": [
      "3500\n"
     ]
    }
   ],
   "source": [
    "def calculateBill(units):\n",
    "\n",
    "    if (units <= 100):\n",
    "        return units * 10\n",
    "    elif (units <= 200):\n",
    "        return ((100 * 10) + (units - 100) * 15) \n",
    "    elif (units <= 300):\n",
    "        return ((100 * 10) +(100 * 15) +(units - 200) * 20)\n",
    "    elif (units > 300):\n",
    "        return ((100 * 10) +(100 * 15) +(100 * 20) +(units - 300) * 25) \n",
    "    return 0\n",
    "\n",
    "units = 250 \n",
    "print(calculateBill(units))"
   ]
  },
  {
   "cell_type": "markdown",
   "metadata": {},
   "source": [
    "28. Create a program to determine the type of quadrilateral based on its angles and sides using elif\n",
    "statements."
   ]
  },
  {
   "cell_type": "code",
   "execution_count": 51,
   "metadata": {},
   "outputs": [
    {
     "name": "stdout",
     "output_type": "stream",
     "text": [
      "75.0 , 85.0 , 95.0 , 105.0\n"
     ]
    }
   ],
   "source": [
    "d = 10\n",
    "a = 0.0\n",
    "a=(360 - (6 * d)) / 4\n",
    "\n",
    "print(a,\",\", a + d, \",\", a + 2 * d,\",\", a + 3 * d, sep = ' ')"
   ]
  },
  {
   "cell_type": "markdown",
   "metadata": {},
   "source": [
    "29. Write a Python script to determine the season based on a user-provided month using elif statements."
   ]
  },
  {
   "cell_type": "code",
   "execution_count": null,
   "metadata": {},
   "outputs": [],
   "source": [
    "def findseason (M) :\n",
    "    list1 = [['November','December',\"January\"], [\"February\", \"March\"], ['April', 'May', 'June'], \n",
    "            ['July', 'August', 'September']]\n",
    "    if M in list1[0] :\n",
    "        print ( \"WINTER\" )\n",
    "    elif M in list1[1] :\n",
    "        print ( \"SPRING\" )\n",
    "    elif M in list1[2] :\n",
    "        print ( \"SUMMER\" )\n",
    "    elif M in list1[3] :\n",
    "        print ( \"AUTUMN\" )\n",
    "    else :\n",
    "        print ( \"Invalid Month Number\" )\n",
    "M = str(input(\"enter the month to check season\"))\n",
    "findseason (M)"
   ]
  },
  {
   "cell_type": "markdown",
   "metadata": {},
   "source": [
    "30. Implement a program to determine the type of a year (leap or common) and month (30 or 31 days) using elif statements."
   ]
  },
  {
   "cell_type": "code",
   "execution_count": 65,
   "metadata": {},
   "outputs": [
    {
     "name": "stdout",
     "output_type": "stream",
     "text": [
      "enter month number :8\n",
      "enter the year :2000\n",
      "This is common year and number of days in month is 31\n"
     ]
    }
   ],
   "source": [
    "month = int(input(\"enter month number :\"))\n",
    "year=int(input(\"enter the year :\"))\n",
    "    \n",
    "if((month==2) and ((year%4==0)  or ((year%100==0) and (year%400==0)))) :\n",
    "    print(\"This is leap year and number of days in month is 29\")\n",
    "\n",
    "elif(month==2) :\n",
    "    print(\"This is common year and number of days in month is 28\")\n",
    "\n",
    "elif(month==1 or month==3 or month==5 or month==7 or month==8 or month==10 or month==12) :\n",
    "    print(\"This is common year and number of days in month is 31\")\n",
    "\n",
    "else :\n",
    "    print(\"This is common year and number of days in month is 30\")"
   ]
  },
  {
   "cell_type": "markdown",
   "metadata": {},
   "source": [
    "31. Create a program that validates a password based on complexity rules (length, characters, etc.)."
   ]
  },
  {
   "cell_type": "code",
   "execution_count": 71,
   "metadata": {},
   "outputs": [
    {
     "name": "stdout",
     "output_type": "stream",
     "text": [
      "Valid Password\n",
      "Invalid Password\n"
     ]
    }
   ],
   "source": [
    "l, u, p, d = 0, 0, 0, 0\n",
    "s = \"R@m@_f0rtu9e$\"\n",
    "if (len(s) >= 8):\n",
    "    for i in s:\n",
    "        if (i.islower()):\n",
    "            l+=1\n",
    "        if (i.isupper()):\n",
    "            u+=1\n",
    "        if (i.isdigit()):\n",
    "            d+=1\n",
    "        if(i=='@'or i=='$' or i=='_'):\n",
    "            p+=1\n",
    "        if (l>=1 and u>=1 and p>=1 and d>=1 and l+p+u+d==len(s)):\n",
    "            print(\"Valid Password\")\n",
    "    else:\n",
    "        print(\"Invalid Password\")\n"
   ]
  },
  {
   "cell_type": "markdown",
   "metadata": {},
   "source": [
    "32. Develop a program that performs matrix addition and subtraction based on user input."
   ]
  },
  {
   "cell_type": "code",
   "execution_count": 2,
   "metadata": {},
   "outputs": [
    {
     "name": "stdout",
     "output_type": "stream",
     "text": [
      "enter any operator eg +,-,/,*  :-\n",
      "enter first num :98\n",
      "enter second num :78\n",
      "calculator =  98 - 78 is\n"
     ]
    },
    {
     "data": {
      "text/plain": [
       "20"
      ]
     },
     "execution_count": 2,
     "metadata": {},
     "output_type": "execute_result"
    }
   ],
   "source": [
    "def calculator(n1,n2):\n",
    "    if op == '+':\n",
    "        return n1+n2\n",
    "    elif op == '-':\n",
    "        return n1-n2\n",
    "    elif op == '*':\n",
    "        return  n1*n2\n",
    "    elif op == '/':\n",
    "        return n1/n2\n",
    "op = (input(\"enter any operator eg +,-,/,*  :\"))\n",
    "n1 = int(input(\"enter first num :\"))\n",
    "n2 = int(input(\"enter second num :\"))\n",
    "print(\"calculator = \", n1 ,op, n2, \"is\")\n",
    "calculator(n1,n2)"
   ]
  },
  {
   "cell_type": "markdown",
   "metadata": {},
   "source": [
    "33. Write a program that calculates the greatest common divisor (GCD) of two numbers using the Euclidean algorithm."
   ]
  },
  {
   "cell_type": "code",
   "execution_count": 5,
   "metadata": {},
   "outputs": [
    {
     "name": "stdout",
     "output_type": "stream",
     "text": [
      "enter your first num :55\n",
      "enter your second num :35\n",
      "gcd( 55 , 35 ) =  5\n"
     ]
    }
   ],
   "source": [
    "def gcd(a, b):\n",
    "    if a == 0:\n",
    "        return b\n",
    "    return gcd(b % a, a)\n",
    "if __name__ == \"__main__\":\n",
    "    a = int(input(\"enter your first num :\"))\n",
    "    b = int(input(\"enter your second num :\"))\n",
    "    print(\"gcd(\", a, \",\", b, \") = \", gcd(a, b))"
   ]
  },
  {
   "cell_type": "markdown",
   "metadata": {},
   "source": [
    "34. Build a program that performs matrix multiplication using nested loops and conditional statements."
   ]
  },
  {
   "cell_type": "code",
   "execution_count": 8,
   "metadata": {},
   "outputs": [
    {
     "name": "stdout",
     "output_type": "stream",
     "text": [
      "[114, 160, 60, 27]\n",
      "[74, 97, 73, 14]\n",
      "[119, 157, 112, 23]\n"
     ]
    }
   ],
   "source": [
    "X = [[12,7,3],\n",
    "    [4 ,5,6],\n",
    "    [7 ,8,9]]\n",
    "Y = [[5,8,1,2],\n",
    "    [6,7,3,0],\n",
    "    [4,5,9,1]]\n",
    "     \n",
    "result = [[sum(a*b for a,b in zip(X_row,Y_col)) for Y_col in zip(*Y)] for X_row in X]\n",
    "\n",
    "for r in result:\n",
    "    print(r)"
   ]
  },
  {
   "cell_type": "markdown",
   "metadata": {},
   "source": [
    "35. Create a program that simulates a basic text-based tic-tac-toe game against the computer."
   ]
  },
  {
   "cell_type": "code",
   "execution_count": 10,
   "metadata": {},
   "outputs": [
    {
     "name": "stdout",
     "output_type": "stream",
     "text": [
      "- | - | -\n",
      "- | - | -\n",
      "- | - | -\n",
      "X's turn.\n",
      "Choose a position from 1-9: 1\n",
      "X | - | -\n",
      "- | - | -\n",
      "- | - | -\n",
      "O's turn.\n",
      "Choose a position from 1-9: 5\n",
      "X | - | -\n",
      "- | O | -\n",
      "- | - | -\n",
      "X's turn.\n",
      "Choose a position from 1-9: 9\n",
      "X | - | -\n",
      "- | O | -\n",
      "- | - | X\n",
      "O's turn.\n",
      "Choose a position from 1-9: 7\n",
      "X | - | -\n",
      "- | O | -\n",
      "O | - | X\n",
      "X's turn.\n",
      "Choose a position from 1-9: 3\n",
      "X | - | X\n",
      "- | O | -\n",
      "O | - | X\n",
      "O's turn.\n",
      "Choose a position from 1-9: 2\n",
      "X | O | X\n",
      "- | O | -\n",
      "O | - | X\n",
      "X's turn.\n",
      "Choose a position from 1-9: 6\n",
      "X | O | X\n",
      "- | O | X\n",
      "O | - | X\n",
      "X wins!\n"
     ]
    }
   ],
   "source": [
    "board = [\"-\", \"-\", \"-\",\n",
    "    \"-\", \"-\", \"-\",\n",
    "    \"-\", \"-\", \"-\"]\n",
    "\n",
    "def print_board():\n",
    "    print(board[0] + \" | \" + board[1] + \" | \" + board[2])\n",
    "    print(board[3] + \" | \" + board[4] + \" | \" + board[5])\n",
    "    print(board[6] + \" | \" + board[7] + \" | \" + board[8])\n",
    "\n",
    "def take_turn(player):\n",
    "    print(player + \"'s turn.\")\n",
    "    position = input(\"Choose a position from 1-9: \")\n",
    "    while position not in [\"1\", \"2\", \"3\", \"4\", \"5\", \"6\", \"7\", \"8\", \"9\"]:\n",
    "        position = input(\"Invalid input. Choose a position from 1-9: \")\n",
    "    position = int(position) - 1\n",
    "    while board[position] != \"-\":\n",
    "        position = int(input(\"Position already taken. Choose a different position: \")) - 1\n",
    "    board[position] = player\n",
    "    print_board()\n",
    "\n",
    "def check_game_over():\n",
    "\n",
    "    if (board[0] == board[1] == board[2] != \"-\") or \\\n",
    "    (board[3] == board[4] == board[5] != \"-\") or \\\n",
    "    (board[6] == board[7] == board[8] != \"-\") or \\\n",
    "    (board[0] == board[3] == board[6] != \"-\") or \\\n",
    "    (board[1] == board[4] == board[7] != \"-\") or \\\n",
    "    (board[2] == board[5] == board[8] != \"-\") or \\\n",
    "    (board[0] == board[4] == board[8] != \"-\") or \\\n",
    "    (board[2] == board[4] == board[6] != \"-\"):\n",
    "        return \"win\"\n",
    "\n",
    "    elif \"-\" not in board:\n",
    "        return \"tie\"\n",
    "    else:\n",
    "        return \"play\"\n",
    "\n",
    "def play_game():\n",
    "    print_board()\n",
    "    current_player = \"X\"\n",
    "    game_over = False\n",
    "    while not game_over:\n",
    "        take_turn(current_player)\n",
    "        game_result = check_game_over()\n",
    "        if game_result == \"win\":\n",
    "            print(current_player + \" wins!\")\n",
    "            game_over = True\n",
    "        elif game_result == \"tie\":\n",
    "            print(\"It's a tie!\")\n",
    "            game_over = True\n",
    "        else:\n",
    "            current_player = \"O\" if current_player == \"X\" else \"X\"\n",
    "play_game()\n"
   ]
  },
  {
   "cell_type": "markdown",
   "metadata": {},
   "source": [
    "36. Write a program that generates Fibonacci numbers up to a specified term using iterative methods."
   ]
  },
  {
   "cell_type": "code",
   "execution_count": 11,
   "metadata": {},
   "outputs": [
    {
     "name": "stdout",
     "output_type": "stream",
     "text": [
      "How many terms? 10\n",
      "Fibonacci sequence:\n",
      "0\n",
      "1\n",
      "1\n",
      "2\n",
      "3\n",
      "5\n",
      "8\n",
      "13\n",
      "21\n",
      "34\n"
     ]
    }
   ],
   "source": [
    "nterms = int(input(\"How many terms? \"))\n",
    "n1, n2 = 0, 1\n",
    "count = 0\n",
    "if nterms <= 0:\n",
    "    print(\"Please enter a positive integer\")\n",
    "\n",
    "elif nterms == 1:\n",
    "    print(\"Fibonacci sequence upto\",nterms,\":\")\n",
    "    print(n1)\n",
    "\n",
    "else:\n",
    "    print(\"Fibonacci sequence:\")\n",
    "    while count < nterms:\n",
    "        print(n1)\n",
    "        nth = n1 + n2\n",
    "        n1 = n2\n",
    "        n2 = nth\n",
    "        count += 1"
   ]
  },
  {
   "cell_type": "markdown",
   "metadata": {},
   "source": [
    "37. Develop a program that calculates the nth term of the Fibonacci sequence using memoization."
   ]
  },
  {
   "cell_type": "code",
   "execution_count": 15,
   "metadata": {},
   "outputs": [
    {
     "name": "stdout",
     "output_type": "stream",
     "text": [
      "9 th Fibonacci Number: \n",
      "34\n"
     ]
    }
   ],
   "source": [
    "def fibonacci(n):\n",
    "    if n <= 1:\n",
    "        return n\n",
    "    return fibonacci(n-1) + fibonacci(n-2)\n",
    "if __name__ == \"__main__\":\n",
    "    n = 9\n",
    "    print(n, \"th Fibonacci Number: \")\n",
    "    print(fibonacci(n))"
   ]
  },
  {
   "cell_type": "markdown",
   "metadata": {},
   "source": [
    "38. Create a program that generates a calendar for a given month and year using conditional statements."
   ]
  },
  {
   "cell_type": "code",
   "execution_count": 21,
   "metadata": {},
   "outputs": [
    {
     "name": "stdout",
     "output_type": "stream",
     "text": [
      "   November 2014\n",
      "Mo Tu We Th Fr Sa Su\n",
      "                1  2\n",
      " 3  4  5  6  7  8  9\n",
      "10 11 12 13 14 15 16\n",
      "17 18 19 20 21 22 23\n",
      "24 25 26 27 28 29 30\n",
      "\n"
     ]
    }
   ],
   "source": [
    "import calendar\n",
    "year = 2014 \n",
    "month = 11    \n",
    "print(calendar.month(year, month))"
   ]
  },
  {
   "cell_type": "markdown",
   "metadata": {},
   "source": [
    "39. Build a program that simulates a basic text-based blackjack game against the computer."
   ]
  },
  {
   "cell_type": "code",
   "execution_count": 23,
   "metadata": {},
   "outputs": [
    {
     "name": "stdout",
     "output_type": "stream",
     "text": [
      "Cards Player Has: [('3', 'Clubs'), ('4', 'Clubs')]\n",
      "Score Of The Player: 7\n",
      "\n",
      "\n",
      "What do you want? [\"play\" to request another card, \"stop\" to stop]: PLAY\n",
      "Cards Player Has: [('3', 'Clubs'), ('4', 'Clubs'), ('King', 'Spades')]\n",
      "Score Of The Player: 17\n",
      "\n",
      "\n",
      "What do you want? [\"play\" to request another card, \"stop\" to stop]: PLAY\n",
      "Cards Player Has: [('3', 'Clubs'), ('4', 'Clubs'), ('King', 'Spades'), ('8', 'Spades')]\n",
      "Score Of The Player: 25\n",
      "\n",
      "\n",
      "What do you want? [\"play\" to request another card, \"stop\" to stop]: STOP\n",
      "Cards Dealer Has: [('5', 'Hearts'), ('6', 'Diamonds'), ('Queen', 'Diamonds')]\n",
      "Score Of The Dealer: 21\n",
      "\n",
      "\n",
      "Cards Dealer Has: [('5', 'Hearts'), ('6', 'Diamonds'), ('Queen', 'Diamonds')]\n",
      "Score Of The Dealer: 21\n",
      "Cards Player Has: [('3', 'Clubs'), ('4', 'Clubs'), ('King', 'Spades'), ('8', 'Spades')]\n",
      "Score Of The Player: 25\n",
      "Player wins (Player Has High Score than Dealer)\n"
     ]
    }
   ],
   "source": [
    "import random \n",
    "\n",
    "card_categories = ['Hearts', 'Diamonds', 'Clubs', 'Spades'] \n",
    "cards_list = ['Ace', '2', '3', '4', '5', '6', '7', '8', '9', '10', 'Jack', 'Queen', 'King'] \n",
    "deck = [(card, category) for category in card_categories for card in cards_list] \n",
    "\n",
    "def card_value(card): \n",
    "    if card[0] in ['Jack', 'Queen', 'King']: \n",
    "        return 10\n",
    "    elif card[0] == 'Ace': \n",
    "        return 11\n",
    "    else: \n",
    "        return int(card[0]) \n",
    "\n",
    "random.shuffle(deck) \n",
    "player_card = [deck.pop(), deck.pop()] \n",
    "dealer_card = [deck.pop(), deck.pop()] \n",
    "\n",
    "while True: \n",
    "    player_score = sum(card_value(card) for card in player_card) \n",
    "    dealer_score = sum(card_value(card) for card in dealer_card) \n",
    "    print(\"Cards Player Has:\", player_card) \n",
    "    print(\"Score Of The Player:\", player_score) \n",
    "    print(\"\\n\") \n",
    "    choice = input('What do you want? [\"play\" to request another card, \"stop\" to stop]: ').lower() \n",
    "    if choice == \"play\": \n",
    "        new_card = deck.pop() \n",
    "        player_card.append(new_card) \n",
    "    elif choice == \"stop\": \n",
    "        break\n",
    "    else: \n",
    "        print(\"Invalid choice. Please try again.\") \n",
    "        continue\n",
    "\n",
    "    if player_score > 21: \n",
    "        print(\"Cards Dealer Has:\", dealer_card) \n",
    "        print(\"Score Of The Dealer:\", dealer_score) \n",
    "        print(\"Cards Player Has:\", player_card) \n",
    "        print(\"Score Of The Player:\", player_score) \n",
    "        print(\"Dealer wins (Player Loss Because Player Score is exceeding 21)\") \n",
    "        break\n",
    "\n",
    "while dealer_score < 17: \n",
    "    new_card = deck.pop() \n",
    "    dealer_card.append(new_card) \n",
    "    dealer_score += card_value(new_card) \n",
    "\n",
    "print(\"Cards Dealer Has:\", dealer_card) \n",
    "print(\"Score Of The Dealer:\", dealer_score) \n",
    "print(\"\\n\") \n",
    "\n",
    "if dealer_score > 21: \n",
    "    print(\"Cards Dealer Has:\", dealer_card) \n",
    "    print(\"Score Of The Dealer:\", dealer_score) \n",
    "    print(\"Cards Player Has:\", player_card) \n",
    "    print(\"Score Of The Player:\", player_score) \n",
    "    print(\"Player wins (Dealer Loss Because Dealer Score is exceeding 21)\") \n",
    "elif player_score > dealer_score: \n",
    "    print(\"Cards Dealer Has:\", dealer_card) \n",
    "    print(\"Score Of The Dealer:\", dealer_score) \n",
    "    print(\"Cards Player Has:\", player_card) \n",
    "    print(\"Score Of The Player:\", player_score) \n",
    "    print(\"Player wins (Player Has High Score than Dealer)\") \n",
    "elif dealer_score > player_score: \n",
    "    print(\"Cards Dealer Has:\", dealer_card) \n",
    "    print(\"Score Of The Dealer:\", dealer_score) \n",
    "    print(\"Cards Player Has:\", player_card) \n",
    "    print(\"Score Of The Player:\", player_score) \n",
    "    print(\"Dealer wins (Dealer Has High Score than Player)\") \n",
    "else: \n",
    "    print(\"Cards Dealer Has:\", dealer_card) \n",
    "    print(\"Score Of The Dealer:\", dealer_score) \n",
    "    print(\"Cards Player Has:\", player_card) \n",
    "    print(\"Score Of The Player:\", player_score) \n",
    "    print(\"It's a tie.\")\n"
   ]
  },
  {
   "cell_type": "markdown",
   "metadata": {},
   "source": [
    "40. Write a program that generates the prime factors of a given number using trial division."
   ]
  },
  {
   "cell_type": "code",
   "execution_count": 24,
   "metadata": {},
   "outputs": [
    {
     "name": "stdout",
     "output_type": "stream",
     "text": [
      "Prime\n"
     ]
    }
   ],
   "source": [
    "def TrialDivision(N):\n",
    "\n",
    "    i = 2\n",
    "    k = int(N ** 0.5)\n",
    "    while(i<= k):\n",
    "        if(N % i == 0):\n",
    "            return 0\n",
    "        i += 1\n",
    "        return 1\n",
    "\n",
    "if __name__ == \"__main__\":\n",
    "    N = 49\n",
    "    p = TrialDivision(N)\n",
    "    if(p):\n",
    "        print(\"Prime\")\n",
    "    else:\n",
    "        print(\"Composite\")"
   ]
  },
  {
   "cell_type": "code",
   "execution_count": null,
   "metadata": {},
   "outputs": [],
   "source": []
  }
 ],
 "metadata": {
  "kernelspec": {
   "display_name": "Python 3",
   "language": "python",
   "name": "python3"
  },
  "language_info": {
   "codemirror_mode": {
    "name": "ipython",
    "version": 3
   },
   "file_extension": ".py",
   "mimetype": "text/x-python",
   "name": "python",
   "nbconvert_exporter": "python",
   "pygments_lexer": "ipython3",
   "version": "3.7.6"
  }
 },
 "nbformat": 4,
 "nbformat_minor": 4
}
